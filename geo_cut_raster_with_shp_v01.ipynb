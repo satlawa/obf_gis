{
 "cells": [
  {
   "cell_type": "code",
   "execution_count": 39,
   "metadata": {},
   "outputs": [],
   "source": [
    "import os\n",
    "import numpy as np\n",
    "import fiona\n",
    "import rasterio\n",
    "from rasterio.mask import mask"
   ]
  },
  {
   "cell_type": "code",
   "execution_count": 14,
   "metadata": {},
   "outputs": [
    {
     "name": "stderr",
     "output_type": "stream",
     "text": [
      "IOPub data rate exceeded.\n",
      "The notebook server will temporarily stop sending output\n",
      "to the client in order to avoid crashing it.\n",
      "To change this limit, set the config variable\n",
      "`--NotebookApp.iopub_data_rate_limit`.\n",
      "\n",
      "Current values:\n",
      "NotebookApp.iopub_data_rate_limit=1000000.0 (bytes/sec)\n",
      "NotebookApp.rate_limit_window=3.0 (secs)\n",
      "\n"
     ]
    }
   ],
   "source": [
    "import fiona\n",
    "path_data = os.path.join(os.getcwd(), 'shape', 'new_crs.shp')\n",
    "with fiona.open(path_data) as shapefile:\n",
    "    geoms = [feature[\"geometry\"] for feature in shapefile]\n",
    "print(geoms)\n",
    "# '171_08_poly.shp'"
   ]
  },
  {
   "cell_type": "code",
   "execution_count": 15,
   "metadata": {},
   "outputs": [
    {
     "data": {
      "text/plain": [
       "'1.0.13'"
      ]
     },
     "execution_count": 15,
     "metadata": {},
     "output_type": "execute_result"
    }
   ],
   "source": [
    "rasterio.__version__"
   ]
  },
  {
   "cell_type": "code",
   "execution_count": 16,
   "metadata": {},
   "outputs": [
    {
     "name": "stderr",
     "output_type": "stream",
     "text": [
      "/Users/philipp/Python/anaconda3/envs/geo2/lib/python3.6/site-packages/ipykernel_launcher.py:5: FionaDeprecationWarning: Collection.__next__() is buggy and will be removed in Fiona 2.0. Switch to `next(iter(collection))`.\n",
      "  \"\"\"\n"
     ]
    }
   ],
   "source": [
    "fc = fiona.open(path_data)\n",
    "\n",
    "list_poly = []\n",
    "for i in range(1000):\n",
    "    list_poly.append(fc.next())\n"
   ]
  },
  {
   "cell_type": "code",
   "execution_count": 17,
   "metadata": {},
   "outputs": [
    {
     "data": {
      "text/plain": [
       "{'init': 'epsg:31287'}"
      ]
     },
     "execution_count": 17,
     "metadata": {},
     "output_type": "execute_result"
    }
   ],
   "source": [
    "fc.crs"
   ]
  },
  {
   "cell_type": "code",
   "execution_count": 18,
   "metadata": {
    "scrolled": true
   },
   "outputs": [
    {
     "data": {
      "text/plain": [
       "{'type': 'Polygon',\n",
       " 'coordinates': [[(600392.7429754471, 470131.1992006339),\n",
       "   (600408.8749754464, 470080.26320063137),\n",
       "   (600401.3539754484, 470081.1762006292),\n",
       "   (600401.1889754497, 470081.19120063167),\n",
       "   (600400.9199754483, 470081.1972006308),\n",
       "   (600398.3739754445, 470081.1352006281),\n",
       "   (600384.6479754482, 470080.8002006328),\n",
       "   (600384.5249754449, 470080.7942006318),\n",
       "   (600384.3289754499, 470080.7752006296),\n",
       "   (600384.1359754463, 470080.7432006309),\n",
       "   (600384.0459754427, 470080.72420063056),\n",
       "   (600368.56797545, 470077.15220063087),\n",
       "   (600368.4669754463, 470077.1272006305),\n",
       "   (600368.2789754453, 470077.0702006323),\n",
       "   (600368.0949754451, 470077.00120063033),\n",
       "   (600367.9159754475, 470076.92020062916),\n",
       "   (600367.742975447, 470076.8272006316),\n",
       "   (600367.5759754438, 470076.72320062947),\n",
       "   (600367.4659754443, 470076.6462006299),\n",
       "   (600363.2049754445, 470073.5132006323),\n",
       "   (600358.4519754457, 470070.0182006303),\n",
       "   (600350.719975445, 470071.2742006313),\n",
       "   (600339.8489754456, 470085.70620063134),\n",
       "   (600339.896975446, 470085.8092006305),\n",
       "   (600342.4769754442, 470091.44020062964),\n",
       "   (600344.9629754458, 470096.4112006305),\n",
       "   (600347.7709754442, 470100.96520063),\n",
       "   (600350.1689754461, 470104.8152006287),\n",
       "   (600353.5169754436, 470108.5822006287),\n",
       "   (600357.9759754498, 470112.66920063086),\n",
       "   (600363.3819754457, 470116.9942006301),\n",
       "   (600367.3719754477, 470120.15720062796),\n",
       "   (600371.6999754495, 470122.87120063044),\n",
       "   (600375.2319754473, 470124.82520063035),\n",
       "   (600379.3039754442, 470126.86120062787),\n",
       "   (600380.9739754461, 470127.59320062865),\n",
       "   (600383.482975449, 470128.69320063107),\n",
       "   (600388.1639754435, 470130.20620063134),\n",
       "   (600392.6879754474, 470131.18620063365),\n",
       "   (600392.7429754471, 470131.1992006339)]]}"
      ]
     },
     "execution_count": 18,
     "metadata": {},
     "output_type": "execute_result"
    }
   ],
   "source": [
    "list_poly[900]['geometry']"
   ]
  },
  {
   "cell_type": "code",
   "execution_count": 19,
   "metadata": {},
   "outputs": [],
   "source": [
    "geoms = list_poly[900]['geometry']"
   ]
  },
  {
   "cell_type": "code",
   "execution_count": null,
   "metadata": {},
   "outputs": [],
   "source": [
    "geoms = [{'type': 'Polygon', 'coordinates': [[(250204.0, 141868.0), (250942.0, 141868.0), (250942.0, 141208.0), (250204.0, 141208.0), (250204.0, 141868.0)]]}]"
   ]
  },
  {
   "cell_type": "code",
   "execution_count": null,
   "metadata": {},
   "outputs": [],
   "source": [
    "geoms = [{'type': 'Polygon', 'coordinates': [[(600401.189, 474513.026), (600401.889, 474513.026), (600401.889, 474512.026), (600401.189, 474512.026), (600401.189, 474513.026)]]}]"
   ]
  },
  {
   "cell_type": "code",
   "execution_count": 20,
   "metadata": {
    "scrolled": true
   },
   "outputs": [],
   "source": [
    "# cutting the raster\n",
    "path_data_tif = os.path.join(os.getcwd(), 'tiff', '171_Wienerwald_ndsm.tif')\n",
    "with rasterio.open(path_data_tif) as src:\n",
    "    out_image, out_transform = mask(src, [geoms], crop=True)\n",
    "out_meta = src.meta.copy()"
   ]
  },
  {
   "cell_type": "code",
   "execution_count": 21,
   "metadata": {},
   "outputs": [],
   "source": [
    "# save the resulting raster  \n",
    "out_meta.update({\"driver\": \"GTiff\",\n",
    "    \"height\": out_image.shape[1],\n",
    "    \"width\": out_image.shape[2],\n",
    "\"transform\": out_transform})\n",
    "\n",
    "with rasterio.open(\"masked.tif\", \"w\", **out_meta) as dest:\n",
    "    dest.write(out_image)"
   ]
  },
  {
   "cell_type": "code",
   "execution_count": 23,
   "metadata": {},
   "outputs": [
    {
     "data": {
      "text/plain": [
       "(1, 62, 70)"
      ]
     },
     "execution_count": 23,
     "metadata": {},
     "output_type": "execute_result"
    }
   ],
   "source": [
    "out_image.shape"
   ]
  },
  {
   "cell_type": "code",
   "execution_count": 30,
   "metadata": {},
   "outputs": [
    {
     "name": "stdout",
     "output_type": "stream",
     "text": [
      "23.255981\n",
      "-3.402823e+38\n",
      "-inf\n"
     ]
    }
   ],
   "source": [
    "print(out_image.max())\n",
    "print(out_image.min())\n",
    "print(out_image.mean())"
   ]
  },
  {
   "cell_type": "code",
   "execution_count": 35,
   "metadata": {},
   "outputs": [
    {
     "data": {
      "text/plain": [
       "array([[-3.4028231e+38, -3.4028231e+38, -3.4028231e+38, -3.4028231e+38,\n",
       "        -3.4028231e+38, -3.4028231e+38, -3.4028231e+38, -3.4028231e+38,\n",
       "        -3.4028231e+38, -3.4028231e+38, -3.4028231e+38, -3.4028231e+38,\n",
       "        -3.4028231e+38, -3.4028231e+38, -3.4028231e+38, -3.4028231e+38,\n",
       "        -3.4028231e+38,  8.8899841e+00,  9.2839966e+00,  8.9859924e+00,\n",
       "         8.7709961e+00,  9.5350037e+00,  9.3849792e+00,  9.5629883e+00,\n",
       "         1.0052002e+01,  1.1170013e+01,  1.1609009e+01,  1.1365997e+01,\n",
       "         1.1322998e+01,  1.1083008e+01,  1.0742004e+01,  1.0708984e+01,\n",
       "         1.0347992e+01,  1.0509979e+01,  1.0701019e+01,  1.0437012e+01,\n",
       "         1.0610992e+01,  1.0811005e+01,  1.1091980e+01,  1.0718994e+01,\n",
       "         1.1511993e+01,  1.1471985e+01,  1.1962006e+01,  1.2463013e+01,\n",
       "         1.2063995e+01,  1.2696014e+01,  1.2893005e+01,  1.2929016e+01,\n",
       "         1.2684998e+01,  1.2723999e+01,  1.2614014e+01,  1.3550018e+01,\n",
       "         1.3498993e+01,  1.3091003e+01,  1.2821991e+01,  1.2861023e+01,\n",
       "         1.3326019e+01,  1.3516022e+01,  1.3645020e+01,  1.4631989e+01,\n",
       "        -3.4028231e+38, -3.4028231e+38, -3.4028231e+38, -3.4028231e+38,\n",
       "        -3.4028231e+38, -3.4028231e+38, -3.4028231e+38, -3.4028231e+38,\n",
       "        -3.4028231e+38, -3.4028231e+38]], dtype=float32)"
      ]
     },
     "execution_count": 35,
     "metadata": {},
     "output_type": "execute_result"
    }
   ],
   "source": [
    "out_image"
   ]
  },
  {
   "cell_type": "code",
   "execution_count": 40,
   "metadata": {},
   "outputs": [],
   "source": [
    "out_image[out_image<-3.3e+38]=np.nan"
   ]
  },
  {
   "cell_type": "code",
   "execution_count": 41,
   "metadata": {},
   "outputs": [
    {
     "data": {
      "text/plain": [
       "array([[[nan, nan, nan, ..., nan, nan, nan],\n",
       "        [nan, nan, nan, ..., nan, nan, nan],\n",
       "        [nan, nan, nan, ..., nan, nan, nan],\n",
       "        ...,\n",
       "        [nan, nan, nan, ..., nan, nan, nan],\n",
       "        [nan, nan, nan, ..., nan, nan, nan],\n",
       "        [nan, nan, nan, ..., nan, nan, nan]]], dtype=float32)"
      ]
     },
     "execution_count": 41,
     "metadata": {},
     "output_type": "execute_result"
    }
   ],
   "source": [
    "out_image"
   ]
  },
  {
   "cell_type": "code",
   "execution_count": 44,
   "metadata": {},
   "outputs": [
    {
     "name": "stdout",
     "output_type": "stream",
     "text": [
      "23.255981\n",
      "6.8859863\n",
      "11.005963\n"
     ]
    }
   ],
   "source": [
    "print(np.nanmax(out_image))\n",
    "print(np.nanmin(out_image))\n",
    "print(np.nanmean(out_image))"
   ]
  },
  {
   "cell_type": "code",
   "execution_count": null,
   "metadata": {},
   "outputs": [],
   "source": []
  },
  {
   "cell_type": "code",
   "execution_count": null,
   "metadata": {},
   "outputs": [],
   "source": []
  },
  {
   "cell_type": "code",
   "execution_count": 27,
   "metadata": {},
   "outputs": [],
   "source": [
    "arr = dataset.read()"
   ]
  },
  {
   "cell_type": "code",
   "execution_count": 28,
   "metadata": {},
   "outputs": [
    {
     "data": {
      "text/plain": [
       "(1, 15148, 25373)"
      ]
     },
     "execution_count": 28,
     "metadata": {},
     "output_type": "execute_result"
    }
   ],
   "source": [
    "arr.shape"
   ]
  },
  {
   "cell_type": "code",
   "execution_count": 29,
   "metadata": {},
   "outputs": [
    {
     "name": "stdout",
     "output_type": "stream",
     "text": [
      "45.00003\n",
      "-3.402823e+38\n",
      "-inf\n"
     ]
    },
    {
     "name": "stderr",
     "output_type": "stream",
     "text": [
      "/Users/philipp/Python/anaconda3/envs/geo2/lib/python3.6/site-packages/numpy/core/_methods.py:75: RuntimeWarning: overflow encountered in reduce\n",
      "  ret = umr_sum(arr, axis, dtype, out, keepdims)\n"
     ]
    }
   ],
   "source": [
    "print(arr.max())\n",
    "print(arr.min())\n",
    "print(arr.mean())"
   ]
  },
  {
   "cell_type": "code",
   "execution_count": null,
   "metadata": {},
   "outputs": [],
   "source": []
  },
  {
   "cell_type": "code",
   "execution_count": null,
   "metadata": {},
   "outputs": [],
   "source": [
    "dataset.bounds"
   ]
  },
  {
   "cell_type": "code",
   "execution_count": 9,
   "metadata": {},
   "outputs": [],
   "source": [
    "path_data_tif = os.path.join(os.getcwd(), 'tiff', '171_Wienerwald_ndsm.tif')\n",
    "dataset = rasterio.open(path_data_tif)"
   ]
  },
  {
   "cell_type": "code",
   "execution_count": null,
   "metadata": {},
   "outputs": [],
   "source": [
    "dataset"
   ]
  },
  {
   "cell_type": "code",
   "execution_count": null,
   "metadata": {},
   "outputs": [],
   "source": [
    "dataset.count"
   ]
  },
  {
   "cell_type": "code",
   "execution_count": null,
   "metadata": {},
   "outputs": [],
   "source": [
    "dataset.mode"
   ]
  },
  {
   "cell_type": "code",
   "execution_count": 25,
   "metadata": {},
   "outputs": [
    {
     "data": {
      "text/plain": [
       "25373"
      ]
     },
     "execution_count": 25,
     "metadata": {},
     "output_type": "execute_result"
    }
   ],
   "source": [
    "dataset.width"
   ]
  },
  {
   "cell_type": "code",
   "execution_count": 26,
   "metadata": {},
   "outputs": [
    {
     "data": {
      "text/plain": [
       "15148"
      ]
     },
     "execution_count": 26,
     "metadata": {},
     "output_type": "execute_result"
    }
   ],
   "source": [
    "dataset.height"
   ]
  },
  {
   "cell_type": "code",
   "execution_count": 10,
   "metadata": {},
   "outputs": [
    {
     "data": {
      "text/plain": [
       "BoundingBox(left=589400.0086999976, bottom=464101.20250000095, right=614773.0086999976, top=479249.20250000095)"
      ]
     },
     "execution_count": 10,
     "metadata": {},
     "output_type": "execute_result"
    }
   ],
   "source": [
    "dataset.bounds"
   ]
  },
  {
   "cell_type": "code",
   "execution_count": 13,
   "metadata": {},
   "outputs": [
    {
     "data": {
      "text/plain": [
       "(596140.5399999991, 408533.6499999985, 605921.3200000003, 415821.9699999988)"
      ]
     },
     "execution_count": 13,
     "metadata": {},
     "output_type": "execute_result"
    }
   ],
   "source": [
    "fc.bounds"
   ]
  },
  {
   "cell_type": "code",
   "execution_count": null,
   "metadata": {},
   "outputs": [],
   "source": [
    "dataset.transform"
   ]
  },
  {
   "cell_type": "code",
   "execution_count": 11,
   "metadata": {},
   "outputs": [
    {
     "data": {
      "text/plain": [
       "CRS({'proj': 'lcc', 'lat_1': 46, 'lat_2': 49, 'lat_0': 47.5, 'lon_0': 13.33333333333333, 'x_0': 400000, 'y_0': 400000, 'datum': 'hermannskogel', 'units': 'm', 'no_defs': True})"
      ]
     },
     "execution_count": 11,
     "metadata": {},
     "output_type": "execute_result"
    }
   ],
   "source": [
    "dataset.crs"
   ]
  },
  {
   "cell_type": "code",
   "execution_count": 12,
   "metadata": {},
   "outputs": [
    {
     "data": {
      "text/plain": [
       "{'proj': 'lcc',\n",
       " 'lat_1': 46,\n",
       " 'lat_2': 49,\n",
       " 'lat_0': 47.5,\n",
       " 'lon_0': 13.333333333,\n",
       " 'x_0': 400000,\n",
       " 'y_0': 400000,\n",
       " 'ellps': 'bessel',\n",
       " 'units': 'm',\n",
       " 'no_defs': True}"
      ]
     },
     "execution_count": 12,
     "metadata": {},
     "output_type": "execute_result"
    }
   ],
   "source": [
    "fc.crs"
   ]
  },
  {
   "cell_type": "code",
   "execution_count": null,
   "metadata": {},
   "outputs": [],
   "source": [
    "fc.bounds"
   ]
  },
  {
   "cell_type": "code",
   "execution_count": null,
   "metadata": {},
   "outputs": [],
   "source": [
    "dataset.bounds"
   ]
  },
  {
   "cell_type": "code",
   "execution_count": null,
   "metadata": {},
   "outputs": [],
   "source": []
  },
  {
   "cell_type": "code",
   "execution_count": null,
   "metadata": {},
   "outputs": [],
   "source": []
  },
  {
   "cell_type": "code",
   "execution_count": null,
   "metadata": {},
   "outputs": [],
   "source": [
    "\"\"\"Coordinate and geometry warping and reprojection\"\"\"\n",
    "\n",
    "from fiona._transform import _transform, _transform_geom\n",
    "\n",
    "\n",
    "def transform(src_crs, dst_crs, xs, ys):\n",
    "    \"\"\"Transform coordinates from one reference system to another.\n",
    "    Parameters\n",
    "    ----------\n",
    "    src_crs: str or dict\n",
    "        A string like 'EPSG:4326' or a dict of proj4 parameters like\n",
    "        {'proj': 'lcc', 'lat_0': 18.0, 'lat_1': 18.0, 'lon_0': -77.0}\n",
    "        representing the coordinate reference system on the \"source\"\n",
    "        or \"from\" side of the transformation.\n",
    "    dst_crs: str or dict\n",
    "        A string or dict representing the coordinate reference system\n",
    "        on the \"destination\" or \"to\" side of the transformation.\n",
    "    xs: sequence of float\n",
    "        A list or tuple of x coordinate values. Must have the same\n",
    "        length as the ``ys`` parameter.\n",
    "    ys: sequence of float\n",
    "        A list or tuple of y coordinate values. Must have the same\n",
    "        length as the ``xs`` parameter.\n",
    "    Returns\n",
    "    -------\n",
    "    xp, yp: list of float\n",
    "        A pair of transformed coordinate sequences. The elements of\n",
    "        ``xp`` and ``yp`` correspond exactly to the elements of the\n",
    "        ``xs`` and ``ys`` input parameters.\n",
    "    Examples\n",
    "    --------\n",
    "    >>> transform('EPSG:4326', 'EPSG:26953', [-105.0], [40.0])\n",
    "    ([957097.0952383667], [378940.8419189212])\n",
    "    \"\"\"\n",
    "    # Function is implemented in the _transform C extension module.\n",
    "    return _transform(src_crs, dst_crs, xs, ys)\n",
    "\n",
    "\n",
    "def transform_geom(\n",
    "        src_crs, dst_crs, geom,\n",
    "        antimeridian_cutting=False, antimeridian_offset=10.0, precision=-1):\n",
    "    \"\"\"Transform a geometry obj from one reference system to another.\n",
    "    Parameters\n",
    "    ----------\n",
    "    src_crs: str or dict\n",
    "        A string like 'EPSG:4326' or a dict of proj4 parameters like\n",
    "        {'proj': 'lcc', 'lat_0': 18.0, 'lat_1': 18.0, 'lon_0': -77.0}\n",
    "        representing the coordinate reference system on the \"source\"\n",
    "        or \"from\" side of the transformation.\n",
    "    dst_crs: str or dict\n",
    "        A string or dict representing the coordinate reference system\n",
    "        on the \"destination\" or \"to\" side of the transformation.\n",
    "    geom: obj\n",
    "        A GeoJSON-like geometry object with 'type' and 'coordinates'\n",
    "        members.\n",
    "    antimeridian_cutting: bool, optional\n",
    "        ``True`` to cut output geometries in two at the antimeridian,\n",
    "        the default is ``False`.\n",
    "    antimeridian_offset: float, optional\n",
    "        A distance in decimal degrees from the antimeridian, outside of\n",
    "        which geometries will not be cut.\n",
    "    precision: int, optional\n",
    "        Optional rounding precision of output coordinates, in number\n",
    "        of decimal places.\n",
    "    Returns\n",
    "    -------\n",
    "    obj\n",
    "        A new GeoJSON-like geometry with transformed coordinates. Note\n",
    "        that if the output is at the antimeridian, it may be cut and \n",
    "        of a different geometry ``type`` than the input, e.g., a\n",
    "        polygon input may result in multi-polygon output.\n",
    "    Examples\n",
    "    --------\n",
    "    >>> transform_geom(\n",
    "    ...     'EPSG:4326', 'EPSG:26953',\n",
    "    ...     {'type': 'Point', 'coordinates': [-105.0, 40.0]})\n",
    "    {'type': 'Point', 'coordinates': (957097.0952383667, 378940.8419189212)}\n",
    "    \"\"\"\n",
    "    # Function is implemented in the _transform C extension module.\n",
    "    return _transform_geom(\n",
    "        src_crs, dst_crs, geom,\n",
    "        antimeridian_cutting, antimeridian_offset, precision)"
   ]
  },
  {
   "cell_type": "code",
   "execution_count": null,
   "metadata": {},
   "outputs": [],
   "source": [
    "crs_old = {'proj': 'lcc',\n",
    " 'lat_1': 46,\n",
    " 'lat_2': 49,\n",
    " 'lat_0': 48,\n",
    " 'lon_0': 13.333333333,\n",
    " 'x_0': 400000,\n",
    " 'y_0': 400000,\n",
    " 'ellps': 'bessel',\n",
    " 'units': 'm',\n",
    " 'no_defs': True}\n",
    "\n",
    "crs_new = {'proj': 'lcc',\n",
    " 'lat_1': 46,\n",
    " 'lat_2': 49,\n",
    " 'lat_0': 47.5,\n",
    " 'lon_0': 13.333333333,\n",
    " 'x_0': 400000,\n",
    " 'y_0': 400000,\n",
    " 'ellps': 'bessel',\n",
    " 'units': 'm',\n",
    " 'no_defs': True}"
   ]
  },
  {
   "cell_type": "code",
   "execution_count": null,
   "metadata": {},
   "outputs": [],
   "source": [
    "transform_geom(crs_old, crs_new, fc)"
   ]
  },
  {
   "cell_type": "code",
   "execution_count": null,
   "metadata": {},
   "outputs": [],
   "source": []
  }
 ],
 "metadata": {
  "kernelspec": {
   "display_name": "geo2",
   "language": "python",
   "name": "geo2"
  },
  "language_info": {
   "codemirror_mode": {
    "name": "ipython",
    "version": 3
   },
   "file_extension": ".py",
   "mimetype": "text/x-python",
   "name": "python",
   "nbconvert_exporter": "python",
   "pygments_lexer": "ipython3",
   "version": "3.6.7"
  }
 },
 "nbformat": 4,
 "nbformat_minor": 2
}
