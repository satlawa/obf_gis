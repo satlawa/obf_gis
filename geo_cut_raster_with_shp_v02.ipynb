{
 "cells": [
  {
   "cell_type": "code",
   "execution_count": 1,
   "metadata": {},
   "outputs": [],
   "source": [
    "import os\n",
    "import numpy as np\n",
    "import fiona\n",
    "import rasterio\n",
    "from rasterio.mask import mask"
   ]
  },
  {
   "cell_type": "code",
   "execution_count": 2,
   "metadata": {},
   "outputs": [
    {
     "data": {
      "text/plain": [
       "'1.1.5'"
      ]
     },
     "execution_count": 2,
     "metadata": {},
     "output_type": "execute_result"
    }
   ],
   "source": [
    "rasterio.__version__"
   ]
  },
  {
   "cell_type": "code",
   "execution_count": 3,
   "metadata": {},
   "outputs": [
    {
     "name": "stdout",
     "output_type": "stream",
     "text": [
      "geo_cut_raster_with_shp_v01.ipynb   GISOh.py\r\n",
      "geo_cut_raster_with_shp_v02.ipynb   \u001b[0m\u001b[01;35mmasked_5.tif\u001b[0m\r\n",
      "geo_cut_raster_with_shp_v031.ipynb  reprojetion.ipynb\r\n",
      "GEO_cut_raster_with_shp_v04.ipynb\r\n"
     ]
    }
   ],
   "source": [
    "ls"
   ]
  },
  {
   "cell_type": "code",
   "execution_count": 4,
   "metadata": {},
   "outputs": [],
   "source": [
    "#path_data = '/mnt/sda1/gis/test/mask_wo_179_04.shp'\n",
    "path_data = '/mnt/sda1/gis/test/mask_ww.shp'\n",
    "#path_data_tif = '/mnt/sda1/gis/orthophotos/2018250_bischofshofen_lb_rgbi.img'\n",
    "path_data_tif = '/mnt/sda1/gis/orthophotos/2018_wien/2018460_wien_lb_rgbi.img'\n",
    "#path_data_tif = '/mnt/sda1/gis/Oberhoehen/ndom_oa.tif'"
   ]
  },
  {
   "cell_type": "code",
   "execution_count": 5,
   "metadata": {},
   "outputs": [],
   "source": [
    "# load shapefile with polygons\n",
    "\n",
    "#path_data = os.path.join(os.getcwd(), 'shape', 'new_2_crs.shp')\n",
    "with fiona.open(path_data) as shapefile:\n",
    "    geoms = [feature for feature in shapefile]"
   ]
  },
  {
   "cell_type": "code",
   "execution_count": 6,
   "metadata": {},
   "outputs": [],
   "source": [
    "# load shapefile with polygons\n",
    "\n",
    "#path_data = os.path.join(os.getcwd(), 'shape', 'new_crs.shp')\n",
    "#with fiona.open(path_data) as shapefile:\n",
    "#    geomss = [feature[\"geometry\"] for feature in shapefile]"
   ]
  },
  {
   "cell_type": "code",
   "execution_count": 7,
   "metadata": {},
   "outputs": [],
   "source": [
    "# load shapefile with polygons\n",
    "#path_data = os.path.join(os.getcwd(), 'shape', 'new_crs.shp')\n",
    "#fc = fiona.open(path_data)\n",
    "#list_poly = []\n",
    "#for i in range(1000):\n",
    "#    list_poly.append(fc.next())"
   ]
  },
  {
   "cell_type": "code",
   "execution_count": 8,
   "metadata": {},
   "outputs": [],
   "source": [
    "# load raster with information\n",
    "\n",
    "#path_data_tif = os.path.join(os.getcwd(), 'tiff', '171_Wienerwald_ndsm.tif')\n",
    "dataset = rasterio.open(path_data_tif)"
   ]
  },
  {
   "cell_type": "code",
   "execution_count": 9,
   "metadata": {},
   "outputs": [
    {
     "ename": "NameError",
     "evalue": "name 'fc' is not defined",
     "output_type": "error",
     "traceback": [
      "\u001b[0;31m---------------------------------------------------------------------------\u001b[0m",
      "\u001b[0;31mNameError\u001b[0m                                 Traceback (most recent call last)",
      "\u001b[0;32m<ipython-input-9-f2df012a459d>\u001b[0m in \u001b[0;36m<module>\u001b[0;34m\u001b[0m\n\u001b[0;32m----> 1\u001b[0;31m \u001b[0mfc\u001b[0m\u001b[0;34m.\u001b[0m\u001b[0mcrs\u001b[0m\u001b[0;34m\u001b[0m\u001b[0;34m\u001b[0m\u001b[0m\n\u001b[0m",
      "\u001b[0;31mNameError\u001b[0m: name 'fc' is not defined"
     ]
    }
   ],
   "source": [
    "fc.crs"
   ]
  },
  {
   "cell_type": "code",
   "execution_count": 10,
   "metadata": {},
   "outputs": [
    {
     "data": {
      "text/plain": [
       "CRS.from_wkt('PROJCS[\"Lambert Conformal Conic\",GEOGCS[\"MGI AT (EPSG:1618)\",DATUM[\"MGI AT (EPSG:1618)\",SPHEROID[\"Bessel\",6377397.155,299.15281310608],TOWGS84[577.326,90.129,463.919,5.137,1.474,5.297,2.4232]],PRIMEM[\"Greenwich\",0],UNIT[\"degree\",0.0174532925199433,AUTHORITY[\"EPSG\",\"9122\"]]],PROJECTION[\"Lambert_Conformal_Conic_2SP\"],PARAMETER[\"latitude_of_origin\",47.5],PARAMETER[\"central_meridian\",13.3333333333333],PARAMETER[\"standard_parallel_1\",49],PARAMETER[\"standard_parallel_2\",46],PARAMETER[\"false_easting\",400000],PARAMETER[\"false_northing\",400000],UNIT[\"meters\",1],AXIS[\"Easting\",EAST],AXIS[\"Northing\",NORTH]]')"
      ]
     },
     "execution_count": 10,
     "metadata": {},
     "output_type": "execute_result"
    }
   ],
   "source": [
    "dataset.crs"
   ]
  },
  {
   "cell_type": "code",
   "execution_count": 18,
   "metadata": {},
   "outputs": [
    {
     "data": {
      "text/plain": [
       "CRS.from_wkt('PROJCS[\"Lambert Conformal Conic\",GEOGCS[\"MGI AT (EPSG:1618)\",DATUM[\"MGI AT (EPSG:1618)\",SPHEROID[\"Bessel\",6377397.155,299.15281310608],TOWGS84[577.326,90.129,463.919,5.137,1.474,5.297,2.4232]],PRIMEM[\"Greenwich\",0],UNIT[\"degree\",0.0174532925199433,AUTHORITY[\"EPSG\",\"9122\"]]],PROJECTION[\"Lambert_Conformal_Conic_2SP\"],PARAMETER[\"latitude_of_origin\",47.5],PARAMETER[\"central_meridian\",13.3333333333333],PARAMETER[\"standard_parallel_1\",49],PARAMETER[\"standard_parallel_2\",46],PARAMETER[\"false_easting\",400000],PARAMETER[\"false_northing\",400000],UNIT[\"meters\",1],AXIS[\"Easting\",EAST],AXIS[\"Northing\",NORTH]]')"
      ]
     },
     "execution_count": 18,
     "metadata": {},
     "output_type": "execute_result"
    }
   ],
   "source": [
    "dataset.crs"
   ]
  },
  {
   "cell_type": "code",
   "execution_count": 11,
   "metadata": {
    "scrolled": true
   },
   "outputs": [
    {
     "data": {
      "text/plain": [
       "{'type': 'Feature',\n",
       " 'id': '5',\n",
       " 'properties': OrderedDict([('fid', 6.0),\n",
       "              ('OBJECTID', 4158.0),\n",
       "              ('FB_KURZ', 171),\n",
       "              ('FB_LANG', 'Wienerwald'),\n",
       "              ('FR_KURZ', 1),\n",
       "              ('FR_LANG', 'Kierling'),\n",
       "              ('ABTEILUNG', 653),\n",
       "              ('SHAPE_Leng', 3310.9009050525456),\n",
       "              ('SHAPE_Area', 499758.7836926781)]),\n",
       " 'geometry': {'type': 'Polygon',\n",
       "  'coordinates': [[(611808.0200000033, 433328.4600000009),\n",
       "    (611829.0200000033, 433338.2100000009),\n",
       "    (611840.2199999988, 433345.44999999925),\n",
       "    (611841.6000000015, 433346.33999999985),\n",
       "    (611841.7899999991, 433346.4600000009),\n",
       "    (611850.3200000003, 433351.44000000134),\n",
       "    (611857.4799999967, 433358.6000000015),\n",
       "    (611857.7199999988, 433358.8200000003),\n",
       "    (611857.9799999967, 433359.0300000012),\n",
       "    (611858.2400000021, 433359.2199999988),\n",
       "    (611858.5200000033, 433359.3900000006),\n",
       "    (611858.7800000012, 433359.5300000012),\n",
       "    (611881.1400000006, 433370.7100000009),\n",
       "    (611900.5, 433385.6000000015),\n",
       "    (611900.7700000033, 433385.7899999991),\n",
       "    (611901.049999997, 433385.9699999988),\n",
       "    (611901.3400000036, 433386.12000000104),\n",
       "    (611901.6400000006, 433386.26000000164),\n",
       "    (611901.9099999964, 433386.3599999994),\n",
       "    (611908.8500000015, 433388.76999999955),\n",
       "    (611920.8100000024, 433392.91000000015),\n",
       "    (611940.6499999985, 433409.0700000003),\n",
       "    (611940.7700000033, 433409.16000000015),\n",
       "    (611941.0300000012, 433409.3500000015),\n",
       "    (611941.2400000021, 433409.48000000045),\n",
       "    (611964.0200000033, 433423.1499999985),\n",
       "    (611964.1099999994, 433423.19999999925),\n",
       "    (611975.450000003, 433429.6799999997),\n",
       "    (611980.0600000024, 433432.30999999866),\n",
       "    (611980.3299999982, 433432.44999999925),\n",
       "    (611980.6300000027, 433432.58999999985),\n",
       "    (611980.7299999967, 433432.62999999896),\n",
       "    (611985.450000003, 433434.4699999988),\n",
       "    (612008.0799999982, 433443.26999999955),\n",
       "    (612013.3400000036, 433445.3999999985),\n",
       "    (612039.9099999964, 433456.1499999985),\n",
       "    (612040.1700000018, 433456.25),\n",
       "    (612095.6099999994, 433475.23999999836),\n",
       "    (612095.8299999982, 433475.30999999866),\n",
       "    (612101.5, 433476.9600000009),\n",
       "    (612150.5200000033, 433491.26000000164),\n",
       "    (612183.4900000021, 433501.73999999836),\n",
       "    (612212.8599999994, 433515.30000000075),\n",
       "    (612213.049999997, 433515.37999999896),\n",
       "    (612213.3500000015, 433515.5),\n",
       "    (612213.4900000021, 433515.5399999991),\n",
       "    (612243.1099999994, 433524.66000000015),\n",
       "    (612243.2800000012, 433524.7100000009),\n",
       "    (612243.6000000015, 433524.7899999991),\n",
       "    (612243.9299999997, 433524.83999999985),\n",
       "    (612244.0799999982, 433524.8599999994),\n",
       "    (612274.2700000033, 433527.87999999896),\n",
       "    (612294.1799999997, 433531.55999999866),\n",
       "    (612312.700000003, 433538.1799999997),\n",
       "    (612314.9610000029, 433545.52010000125),\n",
       "    (612325.1700000018, 433546.51999999955),\n",
       "    (612325.450000003, 433546.51000000164),\n",
       "    (612328.1799999997, 433546.4600000009),\n",
       "    (612338.1700000018, 433546.62999999896),\n",
       "    (612346.0600000024, 433543.23999999836),\n",
       "    (612350.1000000015, 433540.48000000045),\n",
       "    (612362.0700000003, 433530.26000000164),\n",
       "    (612389.6899999976, 433505.4299999997),\n",
       "    (612395.0399999991, 433500.6099999994),\n",
       "    (612405.9299999997, 433489.0300000012),\n",
       "    (612407.7800000012, 433484.6000000015),\n",
       "    (612410.6799999997, 433482.7100000009),\n",
       "    (612412.7599999979, 433482.19999999925),\n",
       "    (612437.5200000033, 433487.16000000015),\n",
       "    (612444.0700000003, 433487.58999999985),\n",
       "    (612446.2400000021, 433486.26999999955),\n",
       "    (612447.8900000006, 433484.1400000006),\n",
       "    (612449.1799999997, 433474.7800000012),\n",
       "    (612450.9099999964, 433470.83999999985),\n",
       "    (612456.5799999982, 433466.4699999988),\n",
       "    (612458.7400000021, 433465.3599999994),\n",
       "    (612463.3599999994, 433465.73000000045),\n",
       "    (612471.7299999967, 433469.1499999985),\n",
       "    (612526.25, 433495.26999999955),\n",
       "    (612547.9099999964, 433573.19000000134),\n",
       "    (612564.3999999985, 433625.87000000104),\n",
       "    (612610.4399999976, 433718.6799999997),\n",
       "    (612611.6099999994, 433721.0300000012),\n",
       "    (612611.6599999964, 433721.1400000006),\n",
       "    (612616.2700000033, 433730.4299999997),\n",
       "    (612638.25, 433787.83999999985),\n",
       "    (612670.9200000018, 433783.23999999836),\n",
       "    (612701.1599999964, 433765.26000000164),\n",
       "    (612747.6499999985, 433758.76999999955),\n",
       "    (612795.9299999997, 433747.51999999955),\n",
       "    (612807.6899999976, 433749.1799999997),\n",
       "    (612852.1599999964, 433755.4600000009),\n",
       "    (612885.5900000036, 433755.62000000104),\n",
       "    (612899.0, 433713.48999999836),\n",
       "    (612892.450000003, 433644.8500000015),\n",
       "    (612888.8500000015, 433607.3299999982),\n",
       "    (612902.7199999988, 433572.0700000003),\n",
       "    (612931.1700000018, 433515.4200000018),\n",
       "    (612935.2857000008, 433491.74069999903),\n",
       "    (612935.2827999964, 433491.73420000076),\n",
       "    (612928.0700000003, 433476.0),\n",
       "    (612922.2800000012, 433467.5),\n",
       "    (612915.450000003, 433457.48999999836),\n",
       "    (612915.25, 433457.1700000018),\n",
       "    (612915.0900000036, 433456.87999999896),\n",
       "    (612914.9600000009, 433456.5799999982),\n",
       "    (612914.8400000036, 433456.2800000012),\n",
       "    (612914.7899999991, 433456.1099999994),\n",
       "    (612909.8100000024, 433439.48999999836),\n",
       "    (612906.7100000009, 433434.0700000003),\n",
       "    (612899.799999997, 433421.98999999836),\n",
       "    (612899.6700000018, 433421.75),\n",
       "    (612890.2400000021, 433402.87999999896),\n",
       "    (612890.0900000036, 433402.55000000075),\n",
       "    (612889.9799999967, 433402.25),\n",
       "    (612889.8800000027, 433401.9299999997),\n",
       "    (612889.8100000024, 433401.62000000104),\n",
       "    (612889.7700000033, 433401.4200000018),\n",
       "    (612887.4200000018, 433386.5399999991),\n",
       "    (612882.6400000006, 433381.0300000012),\n",
       "    (612877.200000003, 433374.75),\n",
       "    (612877.0099999979, 433374.51999999955),\n",
       "    (612876.9099999964, 433374.37999999896),\n",
       "    (612869.7100000009, 433364.2899999991),\n",
       "    (612864.049999997, 433356.37000000104),\n",
       "    (612863.9600000009, 433356.23999999836),\n",
       "    (612863.7899999991, 433355.9600000009),\n",
       "    (612863.6300000027, 433355.6700000018),\n",
       "    (612863.5, 433355.37000000104),\n",
       "    (612863.450000003, 433355.25),\n",
       "    (612855.3599999994, 433334.0799999982),\n",
       "    (612852.5099999979, 433326.62999999896),\n",
       "    (612843.950000003, 433314.0799999982),\n",
       "    (612839.9699999988, 433308.25),\n",
       "    (612839.9399999976, 433308.19999999925),\n",
       "    (612834.75, 433300.4200000018),\n",
       "    (612813.1400000006, 433268.0),\n",
       "    (612798.0200000033, 433259.23999999836),\n",
       "    (612777.0, 433249.0300000012),\n",
       "    (612768.1599999964, 433244.73999999836),\n",
       "    (612767.8400000036, 433244.5700000003),\n",
       "    (612767.6400000006, 433244.44999999925),\n",
       "    (612746.1899999976, 433230.7199999988),\n",
       "    (612746.1099999994, 433230.6700000018),\n",
       "    (612745.8500000015, 433230.48000000045),\n",
       "    (612745.5900000036, 433230.26999999955),\n",
       "    (612745.3500000015, 433230.05000000075),\n",
       "    (612745.1300000027, 433229.80999999866),\n",
       "    (612744.9200000018, 433229.55000000075),\n",
       "    (612744.7299999967, 433229.2899999991),\n",
       "    (612744.5600000024, 433229.01000000164),\n",
       "    (612744.3999999985, 433228.7199999988),\n",
       "    (612744.2700000033, 433228.4200000018),\n",
       "    (612744.1499999985, 433228.12000000104),\n",
       "    (612744.0700000003, 433227.8500000015),\n",
       "    (612740.049999997, 433213.37999999896),\n",
       "    (612726.9799999967, 433197.0399999991),\n",
       "    (612726.9200000018, 433196.9600000009),\n",
       "    (612726.7299999967, 433196.69000000134),\n",
       "    (612726.6599999964, 433196.6000000015),\n",
       "    (612718.6799999997, 433184.05999999866),\n",
       "    (612708.8500000015, 433168.6000000015),\n",
       "    (612708.4600000009, 433168.1499999985),\n",
       "    (612690.3999999985, 433147.6400000006),\n",
       "    (612666.0300000012, 433123.2800000012),\n",
       "    (612624.799999997, 433098.87000000104),\n",
       "    (612595.25, 433085.37000000104),\n",
       "    (612566.4699999988, 433076.05000000075),\n",
       "    (612545.9900000021, 433070.5399999991),\n",
       "    (612544.3100000024, 433070.08999999985),\n",
       "    (612544.0, 433070.0),\n",
       "    (612543.700000003, 433069.87999999896),\n",
       "    (612543.450000003, 433069.76999999955),\n",
       "    (612533.6899999976, 433065.08999999985),\n",
       "    (612522.2800000012, 433059.62000000104),\n",
       "    (612479.7599999979, 433046.0),\n",
       "    (612479.6700000018, 433045.9699999988),\n",
       "    (612479.5600000024, 433045.94000000134),\n",
       "    (612448.5700000003, 433034.6099999994),\n",
       "    (612444.8599999994, 433033.25),\n",
       "    (612414.5399999991, 433029.0399999991),\n",
       "    (612414.25, 433028.98999999836),\n",
       "    (612414.049999997, 433028.94999999925),\n",
       "    (612382.799999997, 433021.3500000015),\n",
       "    (612362.700000003, 433020.51000000164),\n",
       "    (612362.5799999982, 433020.5),\n",
       "    (612362.5, 433020.48999999836),\n",
       "    (612345.4099999964, 433019.0700000003),\n",
       "    (612331.6199999973, 433017.9200000018),\n",
       "    (612331.3599999994, 433017.8999999985),\n",
       "    (612312.6899999976, 433015.37999999896),\n",
       "    (612286.9900000021, 433011.9200000018),\n",
       "    (612277.2899999991, 433011.5799999982),\n",
       "    (612262.3800000027, 433011.0700000003),\n",
       "    (612262.2199999988, 433011.05999999866),\n",
       "    (612261.8999999985, 433011.0300000012),\n",
       "    (612261.5700000003, 433010.98000000045),\n",
       "    (612261.2599999979, 433010.8999999985),\n",
       "    (612260.9399999976, 433010.80999999866),\n",
       "    (612260.6899999976, 433010.7100000009),\n",
       "    (612247.8299999982, 433005.5700000003),\n",
       "    (612247.4799999967, 433005.41000000015),\n",
       "    (612247.1899999976, 433005.26000000164),\n",
       "    (612246.9099999964, 433005.08999999985),\n",
       "    (612246.6499999985, 433004.8999999985),\n",
       "    (612246.3900000006, 433004.69000000134),\n",
       "    (612246.1599999964, 433004.4600000009),\n",
       "    (612246.0300000012, 433004.33999999985),\n",
       "    (612237.0700000003, 432994.73999999836),\n",
       "    (612234.0200000033, 432991.4699999988),\n",
       "    (612233.9200000018, 432991.3599999994),\n",
       "    (612233.7100000009, 432991.1099999994),\n",
       "    (612233.4900000021, 432990.7899999991),\n",
       "    (612222.3400000036, 432973.6400000006),\n",
       "    (612222.200000003, 432973.41000000015),\n",
       "    (612222.0399999991, 432973.12000000104),\n",
       "    (612221.9099999964, 432972.8200000003),\n",
       "    (612221.7899999991, 432972.51999999955),\n",
       "    (612221.700000003, 432972.19999999925),\n",
       "    (612221.6300000027, 432971.8900000006),\n",
       "    (612221.5700000003, 432971.55999999866),\n",
       "    (612221.5399999991, 432971.23999999836),\n",
       "    (612221.5300000012, 432970.91000000015),\n",
       "    (612221.5399999991, 432970.5799999982),\n",
       "    (612222.3900000006, 432957.7100000009),\n",
       "    (612222.4200000018, 432957.3900000006),\n",
       "    (612222.4799999967, 432957.05999999866),\n",
       "    (612200.7400000021, 432942.41000000015),\n",
       "    (612108.4299999997, 433012.91000000015),\n",
       "    (612076.6599999964, 433037.1700000018),\n",
       "    (611965.8400000036, 433119.9299999997),\n",
       "    (611788.7899999991, 433240.55999999866),\n",
       "    (611772.4699999988, 433251.75),\n",
       "    (611765.6700000018, 433256.05999999866),\n",
       "    (611753.2400000021, 433263.94999999925),\n",
       "    (611746.8500000015, 433271.30999999866),\n",
       "    (611741.1599999964, 433279.5399999991),\n",
       "    (611751.7400000021, 433286.94999999925),\n",
       "    (611771.2899999991, 433302.73999999836),\n",
       "    (611771.3800000027, 433302.8200000003),\n",
       "    (611771.5200000033, 433302.9200000018),\n",
       "    (611792.7800000012, 433318.1099999994),\n",
       "    (611792.8699999973, 433318.1700000018),\n",
       "    (611801.1099999994, 433323.80999999866),\n",
       "    (611807.3100000024, 433328.05000000075),\n",
       "    (611807.6300000027, 433328.26000000164),\n",
       "    (611807.9200000018, 433328.41000000015),\n",
       "    (611808.0200000033, 433328.4600000009)]]}}"
      ]
     },
     "execution_count": 11,
     "metadata": {},
     "output_type": "execute_result"
    }
   ],
   "source": [
    "geoms[5]"
   ]
  },
  {
   "cell_type": "code",
   "execution_count": 12,
   "metadata": {},
   "outputs": [],
   "source": [
    "geom = geoms[5]['geometry']"
   ]
  },
  {
   "cell_type": "code",
   "execution_count": 14,
   "metadata": {
    "scrolled": true
   },
   "outputs": [
    {
     "ename": "MemoryError",
     "evalue": "Unable to allocate 79.9 GiB for an array with shape (1, 224251, 382727) and data type uint8",
     "output_type": "error",
     "traceback": [
      "\u001b[0;31m---------------------------------------------------------------------------\u001b[0m",
      "\u001b[0;31mMemoryError\u001b[0m                               Traceback (most recent call last)",
      "\u001b[0;32m<ipython-input-14-27affdf79e31>\u001b[0m in \u001b[0;36m<module>\u001b[0;34m\u001b[0m\n\u001b[1;32m      2\u001b[0m \u001b[0;31m#path_data_tif = os.path.join(os.getcwd(), 'tiff', '171_Wienerwald_ndsm.tif')\u001b[0m\u001b[0;34m\u001b[0m\u001b[0;34m\u001b[0m\u001b[0;34m\u001b[0m\u001b[0m\n\u001b[1;32m      3\u001b[0m \u001b[0;32mwith\u001b[0m \u001b[0mrasterio\u001b[0m\u001b[0;34m.\u001b[0m\u001b[0mopen\u001b[0m\u001b[0;34m(\u001b[0m\u001b[0mpath_data_tif\u001b[0m\u001b[0;34m)\u001b[0m \u001b[0;32mas\u001b[0m \u001b[0msrc\u001b[0m\u001b[0;34m:\u001b[0m\u001b[0;34m\u001b[0m\u001b[0;34m\u001b[0m\u001b[0m\n\u001b[0;32m----> 4\u001b[0;31m     \u001b[0mout_image\u001b[0m\u001b[0;34m,\u001b[0m \u001b[0mout_transform\u001b[0m \u001b[0;34m=\u001b[0m \u001b[0mmask\u001b[0m\u001b[0;34m(\u001b[0m\u001b[0msrc\u001b[0m\u001b[0;34m.\u001b[0m\u001b[0mread\u001b[0m\u001b[0;34m(\u001b[0m\u001b[0;36m1\u001b[0m\u001b[0;34m)\u001b[0m\u001b[0;34m,\u001b[0m \u001b[0;34m[\u001b[0m\u001b[0mgeom\u001b[0m\u001b[0;34m]\u001b[0m\u001b[0;34m,\u001b[0m \u001b[0mcrop\u001b[0m\u001b[0;34m=\u001b[0m\u001b[0;32mTrue\u001b[0m\u001b[0;34m)\u001b[0m\u001b[0;34m\u001b[0m\u001b[0;34m\u001b[0m\u001b[0m\n\u001b[0m\u001b[1;32m      5\u001b[0m \u001b[0mout_meta\u001b[0m \u001b[0;34m=\u001b[0m \u001b[0msrc\u001b[0m\u001b[0;34m.\u001b[0m\u001b[0mmeta\u001b[0m\u001b[0;34m.\u001b[0m\u001b[0mcopy\u001b[0m\u001b[0;34m(\u001b[0m\u001b[0;34m)\u001b[0m\u001b[0;34m\u001b[0m\u001b[0;34m\u001b[0m\u001b[0m\n",
      "\u001b[0;32mrasterio/_io.pyx\u001b[0m in \u001b[0;36mrasterio._io.DatasetReaderBase.read\u001b[0;34m()\u001b[0m\n",
      "\u001b[0;31mMemoryError\u001b[0m: Unable to allocate 79.9 GiB for an array with shape (1, 224251, 382727) and data type uint8"
     ]
    }
   ],
   "source": [
    "# cutting the raster\n",
    "#path_data_tif = os.path.join(os.getcwd(), 'tiff', '171_Wienerwald_ndsm.tif')\n",
    "with rasterio.open(path_data_tif) as src:\n",
    "    out_image, out_transform = mask(src.read(1), [geom], crop=True)\n",
    "out_meta = src.meta.copy()"
   ]
  },
  {
   "cell_type": "code",
   "execution_count": 14,
   "metadata": {},
   "outputs": [],
   "source": [
    "out_image, out_transform = mask(dataset, [geom], crop=True)\n",
    "out_meta = dataset.meta.copy()"
   ]
  },
  {
   "cell_type": "code",
   "execution_count": 15,
   "metadata": {},
   "outputs": [],
   "source": [
    "# save the resulting raster  \n",
    "out_meta.update({\"driver\": \"GTiff\",\n",
    "    \"height\": out_image.shape[1],\n",
    "    \"width\": out_image.shape[2],\n",
    "\"transform\": out_transform})\n",
    "\n",
    "with rasterio.open(\"masked_5.tif\", \"w\", **out_meta) as dest:\n",
    "    dest.write(out_image)"
   ]
  },
  {
   "cell_type": "code",
   "execution_count": 63,
   "metadata": {},
   "outputs": [
    {
     "data": {
      "text/plain": [
       "(1, 324, 167)"
      ]
     },
     "execution_count": 63,
     "metadata": {},
     "output_type": "execute_result"
    }
   ],
   "source": [
    "out_image.shape"
   ]
  },
  {
   "cell_type": "code",
   "execution_count": 30,
   "metadata": {},
   "outputs": [
    {
     "name": "stdout",
     "output_type": "stream",
     "text": [
      "23.255981\n",
      "-3.402823e+38\n",
      "-inf\n"
     ]
    }
   ],
   "source": [
    "print(out_image.max())\n",
    "print(out_image.min())\n",
    "print(out_image.mean())"
   ]
  },
  {
   "cell_type": "code",
   "execution_count": 65,
   "metadata": {},
   "outputs": [],
   "source": [
    "# set -3.402823e+38 to nan\n",
    "\n",
    "out_image[out_image<-3.3e+38]=np.nan"
   ]
  },
  {
   "cell_type": "code",
   "execution_count": 66,
   "metadata": {},
   "outputs": [
    {
     "name": "stdout",
     "output_type": "stream",
     "text": [
      "45.0\n",
      "0.39501953\n",
      "26.188965\n",
      "25.620052\n",
      "4.4658017\n"
     ]
    }
   ],
   "source": [
    "# calc OH\n",
    "\n",
    "print(np.nanmax(out_image))\n",
    "print(np.nanmin(out_image))\n",
    "print(np.nanmedian(out_image))\n",
    "print(np.nanmean(out_image))\n",
    "print(np.nanstd(out_image))"
   ]
  },
  {
   "cell_type": "code",
   "execution_count": null,
   "metadata": {},
   "outputs": [],
   "source": []
  },
  {
   "cell_type": "code",
   "execution_count": 67,
   "metadata": {},
   "outputs": [],
   "source": [
    "flat = out_image.flatten()"
   ]
  },
  {
   "cell_type": "code",
   "execution_count": 70,
   "metadata": {},
   "outputs": [],
   "source": [
    "flat = flat[~np.isnan(flat)]"
   ]
  },
  {
   "cell_type": "code",
   "execution_count": 76,
   "metadata": {},
   "outputs": [
    {
     "data": {
      "text/plain": [
       "28.799414062500002"
      ]
     },
     "execution_count": 76,
     "metadata": {},
     "output_type": "execute_result"
    }
   ],
   "source": [
    "np.percentile(flat, 80)"
   ]
  },
  {
   "cell_type": "code",
   "execution_count": 83,
   "metadata": {},
   "outputs": [
    {
     "name": "stdout",
     "output_type": "stream",
     "text": [
      "10 20.486376953125003\n",
      "15 22.1305908203125\n",
      "20 23.13402099609375\n",
      "25 23.833984375\n",
      "30 24.42498779296875\n",
      "35 24.94898681640625\n",
      "40 25.393023681640624\n",
      "45 25.79979248046875\n",
      "50 26.18896484375\n",
      "55 26.55421142578125\n",
      "60 26.927978515625\n",
      "65 27.3056396484375\n",
      "70 27.72178955078125\n",
      "75 28.22198486328125\n",
      "80 28.799414062500002\n",
      "85 29.44000244140625\n",
      "90 30.235217285156253\n",
      "95 31.304010009765626\n",
      "100 45.0\n"
     ]
    }
   ],
   "source": [
    "for i in range(10, 105, 5):\n",
    "    print(i , np.percentile(flat, i))"
   ]
  },
  {
   "cell_type": "code",
   "execution_count": null,
   "metadata": {},
   "outputs": [],
   "source": []
  },
  {
   "cell_type": "code",
   "execution_count": null,
   "metadata": {},
   "outputs": [],
   "source": []
  },
  {
   "cell_type": "code",
   "execution_count": 25,
   "metadata": {},
   "outputs": [
    {
     "data": {
      "text/plain": [
       "25373"
      ]
     },
     "execution_count": 25,
     "metadata": {},
     "output_type": "execute_result"
    }
   ],
   "source": [
    "dataset.width"
   ]
  },
  {
   "cell_type": "code",
   "execution_count": 26,
   "metadata": {},
   "outputs": [
    {
     "data": {
      "text/plain": [
       "15148"
      ]
     },
     "execution_count": 26,
     "metadata": {},
     "output_type": "execute_result"
    }
   ],
   "source": [
    "dataset.height"
   ]
  },
  {
   "cell_type": "code",
   "execution_count": 10,
   "metadata": {},
   "outputs": [
    {
     "data": {
      "text/plain": [
       "BoundingBox(left=589400.0086999976, bottom=464101.20250000095, right=614773.0086999976, top=479249.20250000095)"
      ]
     },
     "execution_count": 10,
     "metadata": {},
     "output_type": "execute_result"
    }
   ],
   "source": [
    "dataset.bounds"
   ]
  },
  {
   "cell_type": "code",
   "execution_count": 13,
   "metadata": {},
   "outputs": [
    {
     "data": {
      "text/plain": [
       "(596140.5399999991, 408533.6499999985, 605921.3200000003, 415821.9699999988)"
      ]
     },
     "execution_count": 13,
     "metadata": {},
     "output_type": "execute_result"
    }
   ],
   "source": [
    "fc.bounds"
   ]
  },
  {
   "cell_type": "code",
   "execution_count": null,
   "metadata": {},
   "outputs": [],
   "source": [
    "dataset.transform"
   ]
  },
  {
   "cell_type": "code",
   "execution_count": 11,
   "metadata": {},
   "outputs": [
    {
     "data": {
      "text/plain": [
       "CRS({'proj': 'lcc', 'lat_1': 46, 'lat_2': 49, 'lat_0': 47.5, 'lon_0': 13.33333333333333, 'x_0': 400000, 'y_0': 400000, 'datum': 'hermannskogel', 'units': 'm', 'no_defs': True})"
      ]
     },
     "execution_count": 11,
     "metadata": {},
     "output_type": "execute_result"
    }
   ],
   "source": [
    "dataset.crs"
   ]
  },
  {
   "cell_type": "code",
   "execution_count": 12,
   "metadata": {},
   "outputs": [
    {
     "data": {
      "text/plain": [
       "{'proj': 'lcc',\n",
       " 'lat_1': 46,\n",
       " 'lat_2': 49,\n",
       " 'lat_0': 47.5,\n",
       " 'lon_0': 13.333333333,\n",
       " 'x_0': 400000,\n",
       " 'y_0': 400000,\n",
       " 'ellps': 'bessel',\n",
       " 'units': 'm',\n",
       " 'no_defs': True}"
      ]
     },
     "execution_count": 12,
     "metadata": {},
     "output_type": "execute_result"
    }
   ],
   "source": [
    "fc.crs"
   ]
  },
  {
   "cell_type": "code",
   "execution_count": null,
   "metadata": {},
   "outputs": [],
   "source": [
    "fc.bounds"
   ]
  },
  {
   "cell_type": "code",
   "execution_count": null,
   "metadata": {},
   "outputs": [],
   "source": [
    "dataset.bounds"
   ]
  },
  {
   "cell_type": "code",
   "execution_count": null,
   "metadata": {},
   "outputs": [],
   "source": []
  },
  {
   "cell_type": "code",
   "execution_count": null,
   "metadata": {},
   "outputs": [],
   "source": []
  },
  {
   "cell_type": "code",
   "execution_count": null,
   "metadata": {},
   "outputs": [],
   "source": [
    "\"\"\"Coordinate and geometry warping and reprojection\"\"\"\n",
    "\n",
    "from fiona._transform import _transform, _transform_geom\n",
    "\n",
    "\n",
    "def transform(src_crs, dst_crs, xs, ys):\n",
    "    \"\"\"Transform coordinates from one reference system to another.\n",
    "    Parameters\n",
    "    ----------\n",
    "    src_crs: str or dict\n",
    "        A string like 'EPSG:4326' or a dict of proj4 parameters like\n",
    "        {'proj': 'lcc', 'lat_0': 18.0, 'lat_1': 18.0, 'lon_0': -77.0}\n",
    "        representing the coordinate reference system on the \"source\"\n",
    "        or \"from\" side of the transformation.\n",
    "    dst_crs: str or dict\n",
    "        A string or dict representing the coordinate reference system\n",
    "        on the \"destination\" or \"to\" side of the transformation.\n",
    "    xs: sequence of float\n",
    "        A list or tuple of x coordinate values. Must have the same\n",
    "        length as the ``ys`` parameter.\n",
    "    ys: sequence of float\n",
    "        A list or tuple of y coordinate values. Must have the same\n",
    "        length as the ``xs`` parameter.\n",
    "    Returns\n",
    "    -------\n",
    "    xp, yp: list of float\n",
    "        A pair of transformed coordinate sequences. The elements of\n",
    "        ``xp`` and ``yp`` correspond exactly to the elements of the\n",
    "        ``xs`` and ``ys`` input parameters.\n",
    "    Examples\n",
    "    --------\n",
    "    >>> transform('EPSG:4326', 'EPSG:26953', [-105.0], [40.0])\n",
    "    ([957097.0952383667], [378940.8419189212])\n",
    "    \"\"\"\n",
    "    # Function is implemented in the _transform C extension module.\n",
    "    return _transform(src_crs, dst_crs, xs, ys)\n",
    "\n",
    "\n",
    "def transform_geom(\n",
    "        src_crs, dst_crs, geom,\n",
    "        antimeridian_cutting=False, antimeridian_offset=10.0, precision=-1):\n",
    "    \"\"\"Transform a geometry obj from one reference system to another.\n",
    "    Parameters\n",
    "    ----------\n",
    "    src_crs: str or dict\n",
    "        A string like 'EPSG:4326' or a dict of proj4 parameters like\n",
    "        {'proj': 'lcc', 'lat_0': 18.0, 'lat_1': 18.0, 'lon_0': -77.0}\n",
    "        representing the coordinate reference system on the \"source\"\n",
    "        or \"from\" side of the transformation.\n",
    "    dst_crs: str or dict\n",
    "        A string or dict representing the coordinate reference system\n",
    "        on the \"destination\" or \"to\" side of the transformation.\n",
    "    geom: obj\n",
    "        A GeoJSON-like geometry object with 'type' and 'coordinates'\n",
    "        members.\n",
    "    antimeridian_cutting: bool, optional\n",
    "        ``True`` to cut output geometries in two at the antimeridian,\n",
    "        the default is ``False`.\n",
    "    antimeridian_offset: float, optional\n",
    "        A distance in decimal degrees from the antimeridian, outside of\n",
    "        which geometries will not be cut.\n",
    "    precision: int, optional\n",
    "        Optional rounding precision of output coordinates, in number\n",
    "        of decimal places.\n",
    "    Returns\n",
    "    -------\n",
    "    obj\n",
    "        A new GeoJSON-like geometry with transformed coordinates. Note\n",
    "        that if the output is at the antimeridian, it may be cut and \n",
    "        of a different geometry ``type`` than the input, e.g., a\n",
    "        polygon input may result in multi-polygon output.\n",
    "    Examples\n",
    "    --------\n",
    "    >>> transform_geom(\n",
    "    ...     'EPSG:4326', 'EPSG:26953',\n",
    "    ...     {'type': 'Point', 'coordinates': [-105.0, 40.0]})\n",
    "    {'type': 'Point', 'coordinates': (957097.0952383667, 378940.8419189212)}\n",
    "    \"\"\"\n",
    "    # Function is implemented in the _transform C extension module.\n",
    "    return _transform_geom(\n",
    "        src_crs, dst_crs, geom,\n",
    "        antimeridian_cutting, antimeridian_offset, precision)"
   ]
  },
  {
   "cell_type": "code",
   "execution_count": null,
   "metadata": {},
   "outputs": [],
   "source": [
    "crs_old = {'proj': 'lcc',\n",
    " 'lat_1': 46,\n",
    " 'lat_2': 49,\n",
    " 'lat_0': 48,\n",
    " 'lon_0': 13.333333333,\n",
    " 'x_0': 400000,\n",
    " 'y_0': 400000,\n",
    " 'ellps': 'bessel',\n",
    " 'units': 'm',\n",
    " 'no_defs': True}\n",
    "\n",
    "crs_new = {'proj': 'lcc',\n",
    " 'lat_1': 46,\n",
    " 'lat_2': 49,\n",
    " 'lat_0': 47.5,\n",
    " 'lon_0': 13.333333333,\n",
    " 'x_0': 400000,\n",
    " 'y_0': 400000,\n",
    " 'ellps': 'bessel',\n",
    " 'units': 'm',\n",
    " 'no_defs': True}"
   ]
  },
  {
   "cell_type": "code",
   "execution_count": null,
   "metadata": {},
   "outputs": [],
   "source": [
    "transform_geom(crs_old, crs_new, fc)"
   ]
  },
  {
   "cell_type": "code",
   "execution_count": null,
   "metadata": {},
   "outputs": [],
   "source": []
  }
 ],
 "metadata": {
  "kernelspec": {
   "display_name": "gis",
   "language": "python",
   "name": "gis"
  },
  "language_info": {
   "codemirror_mode": {
    "name": "ipython",
    "version": 3
   },
   "file_extension": ".py",
   "mimetype": "text/x-python",
   "name": "python",
   "nbconvert_exporter": "python",
   "pygments_lexer": "ipython3",
   "version": "3.8.3"
  }
 },
 "nbformat": 4,
 "nbformat_minor": 2
}
